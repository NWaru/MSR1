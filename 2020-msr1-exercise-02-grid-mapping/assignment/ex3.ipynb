{
 "cells": [
  {
   "cell_type": "markdown",
   "metadata": {},
   "source": [
    "# Exercise 3\n",
    "\n",
    "## Occupancy grid mapping\n",
    "\n",
    "The aim of this assignment is to implement a 2D occupancy grid mapping algorithm as described in the lecture. We provide data recorded by a robot using a 2D laser scanner in an indoor environment. \n",
    "\n",
    "The raw data is arranged in the following manner:\n",
    "\n",
    "- `poses.data`: contains the **known** robot poses as it moves around the environment. Each line corresponds to the pose of the robot at a time instant\n",
    "\n",
    "- `ranges.data`: contains 2d laser range measurements recorded by the robot. Each line corresponds to the range measurements taken from the corresponding robot poses.\n",
    "\n",
    "---\n",
    "\n",
    "### Log odds to probability\n",
    "\n",
    "The occupancy calculations are usually performed using the log odds. We will need to convert between log odds and probabilities in this exercise. Implement the `logodds2prob` and `prob2logodds` functions. Verify that the conversion functions are correct for some test input. **[2.0]**"
   ]
  },
  {
   "cell_type": "code",
   "execution_count": 1,
   "metadata": {},
   "outputs": [
    {
     "ename": "NameError",
     "evalue": "name 'prob2logodds' is not defined",
     "output_type": "error",
     "traceback": [
      "\u001b[1;31m---------------------------------------------------------------------------\u001b[0m",
      "\u001b[1;31mNameError\u001b[0m                                 Traceback (most recent call last)",
      "Cell \u001b[1;32mIn[1], line 1\u001b[0m\n\u001b[1;32m----> 1\u001b[0m l \u001b[39m=\u001b[39m prob2logodds(\u001b[39m0.75\u001b[39m)\n\u001b[0;32m      2\u001b[0m \u001b[39mprint\u001b[39m(l)\n\u001b[0;32m      3\u001b[0m \u001b[39mprint\u001b[39m(logodds2prob(l))\n",
      "\u001b[1;31mNameError\u001b[0m: name 'prob2logodds' is not defined"
     ]
    }
   ],
   "source": [
    "from ex3 import *\n",
    "\n",
    "l = prob2logodds(0.75)\n",
    "print(l)\n",
    "print(logodds2prob(l))"
   ]
  },
  {
   "cell_type": "markdown",
   "metadata": {},
   "source": [
    "---\n",
    "### Inverse sensor model\n",
    "\n",
    "The occupancy grid mapping relies on as inverse sensor model to update the occupancy of a cell in the grid. For this exercise, we consider a simple sensor model, where the occupancy of cell $m_i$ is $P_{occ}$ if the measurement $z_t$ falls in that cell, otherwise the occupancy is $P_{free}$. \n",
    "\n",
    "However, if the cell $m_i$ is not in the perception field, the occupancy will be $P_{prior}$.\n",
    "\n",
    "Use the  following probabilities in the implementation:\n",
    "$$P_{occ} = 0.9, P_{free} = 0.35, P_{prior} = 0.5 $$\n",
    "\n",
    "Implement the inverse sensor model function and verify that it is correct for some test input. **[2.0]**"
   ]
  },
  {
   "cell_type": "code",
   "execution_count": null,
   "metadata": {},
   "outputs": [],
   "source": [
    "def inverse_sensor_model(gridmap):\n",
    "    pass"
   ]
  },
  {
   "cell_type": "markdown",
   "metadata": {},
   "source": [
    "---\n",
    "### Occupancy grid mapping algorithm:\n",
    "\n",
    "Implement the occupancy grid mapping algorithm as described in lecture slides. \n",
    "\n",
    "We provide some functions to make the implemntation easier.\n",
    "\n",
    "- `ranges2cells` converts the raw measurements acquired by the robot (*ranges_raw*) into the correspoding cells of the gridmap.\n",
    "- `poses2cells` converts the raw poses of the robot (*poses_raw*) into the correspoding cells of the gridmap.\n",
    "- `bresenham` returns all the cells along a straigh line between two points in the gridmap.\n",
    "\n",
    "Other parameters you may need in the implemntation are provided below.\n",
    "\n",
    "Implement the `grid_mapping_with_known_poses` functionn and compute the resulting occupancy grid map using all the measurements provided in the data.\n",
    "\n",
    "Plot the final occupancy gridmap using the `plot_gridmap` function. **[6.0]**\n"
   ]
  },
  {
   "cell_type": "code",
   "execution_count": null,
   "metadata": {},
   "outputs": [],
   "source": [
    "import ex3\n",
    "import numpy as np\n",
    "%matplotlib inline\n",
    "\n",
    "map_size = 100\n",
    "map_res = 0.25\n",
    "\n",
    "prior = 0.50\n",
    "prob_occ = 0.90\n",
    "prob_free = 0.35\n",
    "\n",
    "# load data\n",
    "ranges_raw = np.loadtxt(\"ranges.data\", delimiter=',', dtype='float')\n",
    "poses_raw = np.loadtxt(\"poses.data\", delimiter=',', dtype='float')\n",
    "\n",
    "# initialize gridmap\n",
    "occ_gridmap = ex3.init_gridmap(map_size, map_res)+prior\n",
    "ex3.plot_gridmap(occ_gridmap)"
   ]
  },
  {
   "cell_type": "code",
   "execution_count": null,
   "metadata": {},
   "outputs": [],
   "source": []
  }
 ],
 "metadata": {
  "interpreter": {
   "hash": "916dbcbb3f70747c44a77c7bcd40155683ae19c65e1c03b4aa3499c5328201f1"
  },
  "kernelspec": {
   "display_name": "Python 3.9.5 64-bit",
   "language": "python",
   "name": "python3"
  },
  "language_info": {
   "codemirror_mode": {
    "name": "ipython",
    "version": 3
   },
   "file_extension": ".py",
   "mimetype": "text/x-python",
   "name": "python",
   "nbconvert_exporter": "python",
   "pygments_lexer": "ipython3",
   "version": "3.10.11"
  }
 },
 "nbformat": 4,
 "nbformat_minor": 4
}
